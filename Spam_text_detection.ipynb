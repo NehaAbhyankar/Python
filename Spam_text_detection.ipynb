{
 "cells": [
  {
   "cell_type": "code",
   "execution_count": 1,
   "metadata": {
    "id": "jc5qDKaslEFA"
   },
   "outputs": [],
   "source": [
    "#####\n",
    "# AUTHOR: Neha Abhyankar\n",
    "# FILENAME: main.py\n",
    "# SPECIFICATION: LSTM, BI-LSTM and Dense deep learning model implementation for SPAM detection\n",
    "# Comparison with traditional Naive Bayes\n",
    "# FOR: CS 5331 Machine Learning and Information Security\n",
    "#####"
   ]
  },
  {
   "cell_type": "code",
   "execution_count": 78,
   "metadata": {
    "id": "xfMDwf9V1knx"
   },
   "outputs": [],
   "source": [
    "import tensorflow as tf\n",
    "import numpy as np\n",
    "import pandas as pd\n",
    "import seaborn as sns\n",
    "import matplotlib.pyplot as plt\n",
    "%matplotlib inline\n",
    "from sklearn.model_selection import train_test_split\n",
    "from sklearn import naive_bayes, metrics, feature_extraction\n",
    "from sklearn.metrics import classification_report\n",
    "import tensorflow as tf\n",
    "from tensorflow.keras.preprocessing.text import Tokenizer\n",
    "from tensorflow.keras.preprocessing.sequence import pad_sequences\n",
    "from tensorflow.keras.callbacks import EarlyStopping\n",
    "from tensorflow.keras.models import Sequential\n",
    "from tensorflow.keras.layers import Embedding, GlobalAveragePooling1D,  Flatten, Dense, Dropout, LSTM, SpatialDropout1D, Bidirectional"
   ]
  },
  {
   "cell_type": "code",
   "execution_count": 70,
   "metadata": {
    "colab": {
     "base_uri": "https://localhost:8080/",
     "height": 424
    },
    "id": "YvDdPfxB1kn2",
    "outputId": "96e34b1c-a569-4dcb-d366-0546dbd5c505"
   },
   "outputs": [
    {
     "data": {
      "text/html": [
       "<div>\n",
       "<style scoped>\n",
       "    .dataframe tbody tr th:only-of-type {\n",
       "        vertical-align: middle;\n",
       "    }\n",
       "\n",
       "    .dataframe tbody tr th {\n",
       "        vertical-align: top;\n",
       "    }\n",
       "\n",
       "    .dataframe thead th {\n",
       "        text-align: right;\n",
       "    }\n",
       "</style>\n",
       "<table border=\"1\" class=\"dataframe\">\n",
       "  <thead>\n",
       "    <tr style=\"text-align: right;\">\n",
       "      <th></th>\n",
       "      <th>label</th>\n",
       "      <th>message</th>\n",
       "    </tr>\n",
       "  </thead>\n",
       "  <tbody>\n",
       "    <tr>\n",
       "      <th>0</th>\n",
       "      <td>ham</td>\n",
       "      <td>Go until jurong point, crazy.. Available only in bugis n great world la e buffet... Cine there g...</td>\n",
       "    </tr>\n",
       "    <tr>\n",
       "      <th>1</th>\n",
       "      <td>ham</td>\n",
       "      <td>Ok lar... Joking wif u oni...</td>\n",
       "    </tr>\n",
       "    <tr>\n",
       "      <th>2</th>\n",
       "      <td>spam</td>\n",
       "      <td>Free entry in 2 a wkly comp to win FA Cup final tkts 21st May 2005. Text FA to 87121 to receive ...</td>\n",
       "    </tr>\n",
       "    <tr>\n",
       "      <th>3</th>\n",
       "      <td>ham</td>\n",
       "      <td>U dun say so early hor... U c already then say...</td>\n",
       "    </tr>\n",
       "    <tr>\n",
       "      <th>4</th>\n",
       "      <td>ham</td>\n",
       "      <td>Nah I don't think he goes to usf, he lives around here though</td>\n",
       "    </tr>\n",
       "    <tr>\n",
       "      <th>...</th>\n",
       "      <td>...</td>\n",
       "      <td>...</td>\n",
       "    </tr>\n",
       "    <tr>\n",
       "      <th>5567</th>\n",
       "      <td>spam</td>\n",
       "      <td>This is the 2nd time we have tried 2 contact u. U have won the £750 Pound prize. 2 claim is easy...</td>\n",
       "    </tr>\n",
       "    <tr>\n",
       "      <th>5568</th>\n",
       "      <td>ham</td>\n",
       "      <td>Will ü b going to esplanade fr home?</td>\n",
       "    </tr>\n",
       "    <tr>\n",
       "      <th>5569</th>\n",
       "      <td>ham</td>\n",
       "      <td>Pity, * was in mood for that. So...any other suggestions?</td>\n",
       "    </tr>\n",
       "    <tr>\n",
       "      <th>5570</th>\n",
       "      <td>ham</td>\n",
       "      <td>The guy did some bitching but I acted like i'd be interested in buying something else next week ...</td>\n",
       "    </tr>\n",
       "    <tr>\n",
       "      <th>5571</th>\n",
       "      <td>ham</td>\n",
       "      <td>Rofl. Its true to its name</td>\n",
       "    </tr>\n",
       "  </tbody>\n",
       "</table>\n",
       "<p>5572 rows × 2 columns</p>\n",
       "</div>"
      ],
      "text/plain": [
       "     label                                                                                              message\n",
       "0      ham  Go until jurong point, crazy.. Available only in bugis n great world la e buffet... Cine there g...\n",
       "1      ham                                                                        Ok lar... Joking wif u oni...\n",
       "2     spam  Free entry in 2 a wkly comp to win FA Cup final tkts 21st May 2005. Text FA to 87121 to receive ...\n",
       "3      ham                                                    U dun say so early hor... U c already then say...\n",
       "4      ham                                        Nah I don't think he goes to usf, he lives around here though\n",
       "...    ...                                                                                                  ...\n",
       "5567  spam  This is the 2nd time we have tried 2 contact u. U have won the £750 Pound prize. 2 claim is easy...\n",
       "5568   ham                                                                 Will ü b going to esplanade fr home?\n",
       "5569   ham                                            Pity, * was in mood for that. So...any other suggestions?\n",
       "5570   ham  The guy did some bitching but I acted like i'd be interested in buying something else next week ...\n",
       "5571   ham                                                                           Rofl. Its true to its name\n",
       "\n",
       "[5572 rows x 2 columns]"
      ]
     },
     "execution_count": 70,
     "metadata": {},
     "output_type": "execute_result"
    }
   ],
   "source": [
    "# Reading and Displaying Data\n",
    "messages = pd.read_csv('spam_ham_dataset.csv')\n",
    "messages"
   ]
  },
  {
   "cell_type": "code",
   "execution_count": 71,
   "metadata": {
    "colab": {
     "base_uri": "https://localhost:8080/",
     "height": 175
    },
    "id": "mK_3ZeLv1kn4",
    "outputId": "3d403873-7915-437d-dd58-0fbf1ebb2307"
   },
   "outputs": [
    {
     "data": {
      "text/html": [
       "<div>\n",
       "<style scoped>\n",
       "    .dataframe tbody tr th:only-of-type {\n",
       "        vertical-align: middle;\n",
       "    }\n",
       "\n",
       "    .dataframe tbody tr th {\n",
       "        vertical-align: top;\n",
       "    }\n",
       "\n",
       "    .dataframe thead th {\n",
       "        text-align: right;\n",
       "    }\n",
       "</style>\n",
       "<table border=\"1\" class=\"dataframe\">\n",
       "  <thead>\n",
       "    <tr style=\"text-align: right;\">\n",
       "      <th></th>\n",
       "      <th>label</th>\n",
       "      <th>ham</th>\n",
       "      <th>spam</th>\n",
       "    </tr>\n",
       "  </thead>\n",
       "  <tbody>\n",
       "    <tr>\n",
       "      <th rowspan=\"4\" valign=\"top\">message</th>\n",
       "      <th>count</th>\n",
       "      <td>4825</td>\n",
       "      <td>747</td>\n",
       "    </tr>\n",
       "    <tr>\n",
       "      <th>unique</th>\n",
       "      <td>4516</td>\n",
       "      <td>653</td>\n",
       "    </tr>\n",
       "    <tr>\n",
       "      <th>top</th>\n",
       "      <td>Sorry, I'll call later</td>\n",
       "      <td>Please call our customer service representative on FREEPHONE 0808 145 4742 between 9am-11pm as y...</td>\n",
       "    </tr>\n",
       "    <tr>\n",
       "      <th>freq</th>\n",
       "      <td>30</td>\n",
       "      <td>4</td>\n",
       "    </tr>\n",
       "  </tbody>\n",
       "</table>\n",
       "</div>"
      ],
      "text/plain": [
       "label                              ham                                                                                                 spam\n",
       "message count                     4825                                                                                                  747\n",
       "        unique                    4516                                                                                                  653\n",
       "        top     Sorry, I'll call later  Please call our customer service representative on FREEPHONE 0808 145 4742 between 9am-11pm as y...\n",
       "        freq                        30                                                                                                    4"
      ]
     },
     "execution_count": 71,
     "metadata": {},
     "output_type": "execute_result"
    }
   ],
   "source": [
    "messages.groupby('label').describe().T"
   ]
  },
  {
   "cell_type": "code",
   "execution_count": 72,
   "metadata": {
    "colab": {
     "base_uri": "https://localhost:8080/",
     "height": 367
    },
    "id": "n3aLhNN11kn5",
    "outputId": "593899c4-c3c9-46cd-8581-86fc08a85fdf"
   },
   "outputs": [
    {
     "name": "stderr",
     "output_type": "stream",
     "text": [
      "/usr/local/lib/python3.7/dist-packages/seaborn/_decorators.py:43: FutureWarning: Pass the following variable as a keyword arg: x. From version 0.12, the only valid positional argument will be `data`, and passing other arguments without an explicit keyword will result in an error or misinterpretation.\n",
      "  FutureWarning\n"
     ]
    },
    {
     "data": {
      "text/plain": [
       "Text(0.5, 1.0, 'Distribution of ham and spam email messages')"
      ]
     },
     "execution_count": 72,
     "metadata": {},
     "output_type": "execute_result"
    },
    {
     "data": {
      "image/png": "[encoded data removed]",
      "text/plain": [
       "<Figure size 432x288 with 1 Axes>"
      ]
     },
     "metadata": {
      "needs_background": "light"
     },
     "output_type": "display_data"
    }
   ],
   "source": [
    "# Getting Spam and Ham messages in different dataframes\n",
    "ham_msg = messages[messages.label =='ham']\n",
    "spam_msg = messages[messages.label=='spam']\n",
    "# Observing classes distribution\n",
    "plt.figure(figsize=(6,4))\n",
    "sns.countplot(messages.label)\n",
    "plt.title('Distribution of ham and spam email messages')"
   ]
  },
  {
   "cell_type": "code",
   "execution_count": 73,
   "metadata": {
    "id": "oQCRRk7a1kn8"
   },
   "outputs": [],
   "source": [
    "# Fixing imbalance by downsampling\n",
    "new_ham_msg = ham_msg.sample(n = len(spam_msg), random_state = 44)\n",
    "new_spam_msg = spam_msg\n",
    "# Combining data\n",
    "new_msg = new_ham_msg.append(new_spam_msg).reset_index(drop=True);\n",
    "f = feature_extraction.text.CountVectorizer(stop_words = 'english')\n",
    "X = f.fit_transform(new_msg[\"message\"])"
   ]
  },
  {
   "cell_type": "code",
   "execution_count": 74,
   "metadata": {
    "colab": {
     "base_uri": "https://localhost:8080/",
     "height": 476
    },
    "id": "yYeoZGWJ1kn9",
    "outputId": "e0fb889f-0be2-4bc3-e21c-6608e0db2857"
   },
   "outputs": [
    {
     "name": "stderr",
     "output_type": "stream",
     "text": [
      "/usr/local/lib/python3.7/dist-packages/seaborn/_decorators.py:43: FutureWarning: Pass the following variable as a keyword arg: x. From version 0.12, the only valid positional argument will be `data`, and passing other arguments without an explicit keyword will result in an error or misinterpretation.\n",
      "  FutureWarning\n"
     ]
    },
    {
     "data": {
      "text/plain": [
       "Text(0.5, 0, 'Message types')"
      ]
     },
     "execution_count": 74,
     "metadata": {},
     "output_type": "execute_result"
    },
    {
     "data": {
      "image/png": "[encoded data removed]",
      "text/plain": [
       "<Figure size 576x432 with 1 Axes>"
      ]
     },
     "metadata": {
      "needs_background": "light"
     },
     "output_type": "display_data"
    }
   ],
   "source": [
    "plt.figure(figsize=(8,6))\n",
    "sns.countplot(new_msg.label)\n",
    "plt.title('Distribution of ham and spam email messages (after downsampling)')\n",
    "plt.xlabel('Message types')"
   ]
  },
  {
   "cell_type": "code",
   "execution_count": 75,
   "metadata": {
    "colab": {
     "base_uri": "https://localhost:8080/",
     "height": 150
    },
    "id": "9ec3V0wv1kn9",
    "outputId": "9d27af27-a49a-4060-ba24-198c0bb69f0e"
   },
   "outputs": [
    {
     "name": "stdout",
     "output_type": "stream",
     "text": [
      "       text_length\n",
      "label             \n",
      "ham      73.238286\n",
      "spam    138.670683\n"
     ]
    },
    {
     "data": {
      "text/html": [
       "<div>\n",
       "<style scoped>\n",
       "    .dataframe tbody tr th:only-of-type {\n",
       "        vertical-align: middle;\n",
       "    }\n",
       "\n",
       "    .dataframe tbody tr th {\n",
       "        vertical-align: top;\n",
       "    }\n",
       "\n",
       "    .dataframe thead th {\n",
       "        text-align: right;\n",
       "    }\n",
       "</style>\n",
       "<table border=\"1\" class=\"dataframe\">\n",
       "  <thead>\n",
       "    <tr style=\"text-align: right;\">\n",
       "      <th></th>\n",
       "      <th>label</th>\n",
       "      <th>message</th>\n",
       "      <th>text_length</th>\n",
       "    </tr>\n",
       "  </thead>\n",
       "  <tbody>\n",
       "    <tr>\n",
       "      <th>610</th>\n",
       "      <td>ham</td>\n",
       "      <td>For me the love should start with attraction.i should feel that I need her every time around me....</td>\n",
       "      <td>910</td>\n",
       "    </tr>\n",
       "  </tbody>\n",
       "</table>\n",
       "</div>"
      ],
      "text/plain": [
       "    label  ... text_length\n",
       "610   ham  ...         910\n",
       "\n",
       "[1 rows x 3 columns]"
      ]
     },
     "execution_count": 75,
     "metadata": {},
     "output_type": "execute_result"
    }
   ],
   "source": [
    "# Get length column for each text\n",
    "new_msg['text_length'] = new_msg['message'].apply(len)\n",
    "\n",
    "#Calculate average length by label types\n",
    "labels = new_msg.groupby('label').mean()\n",
    "print(labels)\n",
    "# Displaying longest length message\n",
    "lengths = new_msg[\"message\"].str.len()\n",
    "argmax = np.where(lengths == lengths.max())[0]\n",
    "new_msg.iloc[argmax]"
   ]
  },
  {
   "cell_type": "code",
   "execution_count": 76,
   "metadata": {
    "id": "vkNUW7HN1kn-"
   },
   "outputs": [],
   "source": [
    "# Mapping Ham and Spam to numeric classes 0 and 1\n",
    "new_msg['msg_type']= new_msg['label'].map({'ham': 0, 'spam': 1})\n",
    "msg_label = new_msg['msg_type'].values"
   ]
  },
  {
   "cell_type": "code",
   "execution_count": 49,
   "metadata": {
    "id": "a1vznmnc1kn-"
   },
   "outputs": [],
   "source": [
    "# Split data into train and test size 70:30\n",
    "train_msg, test_msg, train_labels, test_labels = train_test_split(new_msg['message'], msg_label, test_size=0.2, random_state=434)\n",
    "train_msg1, test_msg1, train_labels1, test_labels1 = train_test_split(X, msg_label, test_size=0.2, random_state=434)"
   ]
  },
  {
   "cell_type": "code",
   "execution_count": 17,
   "metadata": {
    "id": "G4iRIwSQ1kn_"
   },
   "outputs": [],
   "source": [
    "# Defining pre-processing hyperparameters for tokenization\n",
    "max_len = 50 # pad_sequencs parameter, it idicates we are only going to look for 50 words in a sentence\n",
    "trunc_type = \"post\" # pad_sequences parameter\n",
    "padding_type = \"post\" # pad_sequences parameter\n",
    "oov_tok = \"<OOV>\" # out of vocabulary token\n",
    "vocab_size = 500"
   ]
  },
  {
   "cell_type": "code",
   "execution_count": 18,
   "metadata": {
    "id": "G2pwZ96G1kn_"
   },
   "outputs": [],
   "source": [
    "tokenizer = Tokenizer(num_words = vocab_size, char_level=False, oov_token = oov_tok)\n",
    "tokenizer.fit_on_texts(train_msg)"
   ]
  },
  {
   "cell_type": "code",
   "execution_count": 20,
   "metadata": {
    "id": "e_rax-mc1koA"
   },
   "outputs": [],
   "source": [
    "# word_index contains the unique words of dataset\n",
    "word_index = tokenizer.word_index\n"
   ]
  },
  {
   "cell_type": "code",
   "execution_count": 21,
   "metadata": {
    "id": "zqYtTyzW1koA"
   },
   "outputs": [],
   "source": [
    "# Sequencing and padding on training and testing data\n",
    "training_sequences = tokenizer.texts_to_sequences(train_msg)\n",
    "training_padded = pad_sequences (training_sequences, maxlen = max_len, \n",
    "                                 padding = padding_type, truncating = trunc_type )\n",
    "\n",
    "testing_sequences = tokenizer.texts_to_sequences(test_msg)\n",
    "testing_padded = pad_sequences(testing_sequences, maxlen = max_len,\n",
    "                              padding = padding_type, truncating = trunc_type)"
   ]
  },
  {
   "cell_type": "code",
   "execution_count": 22,
   "metadata": {
    "id": "khbIJiO4QRcx"
   },
   "outputs": [],
   "source": [
    "# Now training the Models"
   ]
  },
  {
   "cell_type": "code",
   "execution_count": 50,
   "metadata": {
    "id": "vbBY7xiUmrPY"
   },
   "outputs": [],
   "source": [
    "# Training Naive Bayes\n",
    "bayes = naive_bayes.MultinomialNB()\n",
    "bayes.fit(train_msg1, train_labels1)\n",
    "predict = bayes.predict(test_msg1)"
   ]
  },
  {
   "cell_type": "code",
   "execution_count": 79,
   "metadata": {
    "colab": {
     "base_uri": "https://localhost:8080/"
    },
    "id": "rOWPNZ8hrzaI",
    "outputId": "42e2c188-c119-4f1d-8784-0b0f1332e745"
   },
   "outputs": [
    {
     "name": "stdout",
     "output_type": "stream",
     "text": [
      "              precision    recall  f1-score   support\n",
      "\n",
      "           0       1.00      0.99      0.99       158\n",
      "           1       0.99      1.00      0.99       141\n",
      "\n",
      "    accuracy                           0.99       299\n",
      "   macro avg       0.99      0.99      0.99       299\n",
      "weighted avg       0.99      0.99      0.99       299\n",
      "\n"
     ]
    }
   ],
   "source": [
    "print(classification_report(test_labels1,predict))"
   ]
  },
  {
   "cell_type": "code",
   "execution_count": 25,
   "metadata": {
    "id": "RUDf8mF31koC"
   },
   "outputs": [],
   "source": [
    "# Parameters for Dense Model\n",
    "vocab_size = 500 # Number of words you want to tokenize i.e maximum number of words to keep\n",
    "embeding_dim = 16\n",
    "drop_value = 0.2 # dropout\n",
    "n_dense = 24"
   ]
  },
  {
   "cell_type": "code",
   "execution_count": 26,
   "metadata": {
    "id": "0jIQI0fp1koC"
   },
   "outputs": [],
   "source": [
    "#Dense model architecture\n",
    "model = Sequential()\n",
    "model.add(Embedding(vocab_size, embeding_dim, input_length=max_len))\n",
    "model.add(GlobalAveragePooling1D())\n",
    "model.add(Dense(24, activation='relu'))\n",
    "model.add(Dropout(drop_value))\n",
    "model.add(Dense(1, activation='sigmoid'))"
   ]
  },
  {
   "cell_type": "code",
   "execution_count": 27,
   "metadata": {
    "colab": {
     "base_uri": "https://localhost:8080/"
    },
    "id": "bYZv5Rmn1koD",
    "outputId": "d0a18acd-2c17-4547-883b-d3579958d97e"
   },
   "outputs": [
    {
     "name": "stdout",
     "output_type": "stream",
     "text": [
      "Model: \"sequential\"\n",
      "_________________________________________________________________\n",
      " Layer (type)                Output Shape              Param #   \n",
      "=================================================================\n",
      " embedding (Embedding)       (None, 50, 16)            8000      \n",
      "                                                                 \n",
      " global_average_pooling1d (G  (None, 16)               0         \n",
      " lobalAveragePooling1D)                                          \n",
      "                                                                 \n",
      " dense (Dense)               (None, 24)                408       \n",
      "                                                                 \n",
      " dropout (Dropout)           (None, 24)                0         \n",
      "                                                                 \n",
      " dense_1 (Dense)             (None, 1)                 25        \n",
      "                                                                 \n",
      "=================================================================\n",
      "Total params: 8,433\n",
      "Trainable params: 8,433\n",
      "Non-trainable params: 0\n",
      "_________________________________________________________________\n"
     ]
    }
   ],
   "source": [
    "model.summary()"
   ]
  },
  {
   "cell_type": "code",
   "execution_count": 28,
   "metadata": {
    "id": "Z0F5jYG51koD"
   },
   "outputs": [],
   "source": [
    "# Compiling the Model with Adam optimizer\n",
    "model.compile(loss='binary_crossentropy',optimizer='adam' ,metrics=['accuracy'])"
   ]
  },
  {
   "cell_type": "code",
   "execution_count": 29,
   "metadata": {
    "colab": {
     "base_uri": "https://localhost:8080/"
    },
    "id": "T1crPtrR1koE",
    "outputId": "e6a0c412-a573-4a42-a62a-28c6a9db3645"
   },
   "outputs": [
    {
     "name": "stdout",
     "output_type": "stream",
     "text": [
      "Epoch 1/30\n",
      "38/38 - 1s - loss: 0.6882 - accuracy: 0.7071 - val_loss: 0.6822 - val_accuracy: 0.8328 - 1s/epoch - 33ms/step\n",
      "Epoch 2/30\n",
      "38/38 - 0s - loss: 0.6672 - accuracy: 0.8594 - val_loss: 0.6509 - val_accuracy: 0.8395 - 103ms/epoch - 3ms/step\n",
      "Epoch 3/30\n",
      "38/38 - 0s - loss: 0.6184 - accuracy: 0.8812 - val_loss: 0.5876 - val_accuracy: 0.8495 - 98ms/epoch - 3ms/step\n",
      "Epoch 4/30\n",
      "38/38 - 0s - loss: 0.5319 - accuracy: 0.8954 - val_loss: 0.4979 - val_accuracy: 0.8629 - 89ms/epoch - 2ms/step\n",
      "Epoch 5/30\n",
      "38/38 - 0s - loss: 0.4351 - accuracy: 0.8996 - val_loss: 0.4120 - val_accuracy: 0.8629 - 120ms/epoch - 3ms/step\n",
      "Epoch 6/30\n",
      "38/38 - 0s - loss: 0.3453 - accuracy: 0.9113 - val_loss: 0.3402 - val_accuracy: 0.8930 - 110ms/epoch - 3ms/step\n",
      "Epoch 7/30\n",
      "38/38 - 0s - loss: 0.2865 - accuracy: 0.9197 - val_loss: 0.2908 - val_accuracy: 0.8963 - 103ms/epoch - 3ms/step\n",
      "Epoch 8/30\n",
      "38/38 - 0s - loss: 0.2410 - accuracy: 0.9255 - val_loss: 0.2487 - val_accuracy: 0.9030 - 112ms/epoch - 3ms/step\n",
      "Epoch 9/30\n",
      "38/38 - 0s - loss: 0.2099 - accuracy: 0.9397 - val_loss: 0.2199 - val_accuracy: 0.9064 - 111ms/epoch - 3ms/step\n",
      "Epoch 10/30\n",
      "38/38 - 0s - loss: 0.1785 - accuracy: 0.9431 - val_loss: 0.1925 - val_accuracy: 0.9097 - 101ms/epoch - 3ms/step\n",
      "Epoch 11/30\n",
      "38/38 - 0s - loss: 0.1646 - accuracy: 0.9540 - val_loss: 0.1723 - val_accuracy: 0.9331 - 109ms/epoch - 3ms/step\n",
      "Epoch 12/30\n",
      "38/38 - 0s - loss: 0.1470 - accuracy: 0.9556 - val_loss: 0.1651 - val_accuracy: 0.9331 - 113ms/epoch - 3ms/step\n",
      "Epoch 13/30\n",
      "38/38 - 0s - loss: 0.1323 - accuracy: 0.9582 - val_loss: 0.1558 - val_accuracy: 0.9365 - 95ms/epoch - 3ms/step\n",
      "Epoch 14/30\n",
      "38/38 - 0s - loss: 0.1215 - accuracy: 0.9573 - val_loss: 0.1535 - val_accuracy: 0.9331 - 102ms/epoch - 3ms/step\n",
      "Epoch 15/30\n",
      "38/38 - 0s - loss: 0.1154 - accuracy: 0.9674 - val_loss: 0.1385 - val_accuracy: 0.9431 - 101ms/epoch - 3ms/step\n",
      "Epoch 16/30\n",
      "38/38 - 0s - loss: 0.1069 - accuracy: 0.9632 - val_loss: 0.1351 - val_accuracy: 0.9398 - 103ms/epoch - 3ms/step\n",
      "Epoch 17/30\n",
      "38/38 - 0s - loss: 0.1070 - accuracy: 0.9690 - val_loss: 0.1337 - val_accuracy: 0.9398 - 104ms/epoch - 3ms/step\n",
      "Epoch 18/30\n",
      "38/38 - 0s - loss: 0.0918 - accuracy: 0.9699 - val_loss: 0.1286 - val_accuracy: 0.9398 - 98ms/epoch - 3ms/step\n",
      "Epoch 19/30\n",
      "38/38 - 0s - loss: 0.0980 - accuracy: 0.9674 - val_loss: 0.1249 - val_accuracy: 0.9431 - 104ms/epoch - 3ms/step\n",
      "Epoch 20/30\n",
      "38/38 - 0s - loss: 0.0890 - accuracy: 0.9707 - val_loss: 0.1136 - val_accuracy: 0.9465 - 114ms/epoch - 3ms/step\n",
      "Epoch 21/30\n",
      "38/38 - 0s - loss: 0.0834 - accuracy: 0.9715 - val_loss: 0.1190 - val_accuracy: 0.9498 - 125ms/epoch - 3ms/step\n",
      "Epoch 22/30\n",
      "38/38 - 0s - loss: 0.0757 - accuracy: 0.9749 - val_loss: 0.1122 - val_accuracy: 0.9465 - 103ms/epoch - 3ms/step\n",
      "Epoch 23/30\n",
      "38/38 - 0s - loss: 0.0794 - accuracy: 0.9690 - val_loss: 0.1121 - val_accuracy: 0.9465 - 131ms/epoch - 3ms/step\n",
      "Epoch 24/30\n",
      "38/38 - 0s - loss: 0.0738 - accuracy: 0.9782 - val_loss: 0.1193 - val_accuracy: 0.9431 - 115ms/epoch - 3ms/step\n",
      "Epoch 25/30\n",
      "38/38 - 0s - loss: 0.0721 - accuracy: 0.9782 - val_loss: 0.1126 - val_accuracy: 0.9498 - 107ms/epoch - 3ms/step\n",
      "Epoch 26/30\n",
      "38/38 - 0s - loss: 0.0664 - accuracy: 0.9757 - val_loss: 0.1224 - val_accuracy: 0.9365 - 112ms/epoch - 3ms/step\n"
     ]
    }
   ],
   "source": [
    "# fitting a dense spam detector model\n",
    "num_epochs = 30\n",
    "early_stop = EarlyStopping(monitor='val_loss', patience=3)\n",
    "history = model.fit(training_padded, train_labels, epochs=num_epochs, \n",
    "                    validation_data=(testing_padded, test_labels),callbacks =[early_stop], verbose=2)"
   ]
  },
  {
   "cell_type": "code",
   "execution_count": 30,
   "metadata": {
    "colab": {
     "base_uri": "https://localhost:8080/"
    },
    "id": "BKOPx2E81koE",
    "outputId": "deff235d-546c-4f4f-adba-b292e5a3cae9"
   },
   "outputs": [
    {
     "name": "stdout",
     "output_type": "stream",
     "text": [
      "10/10 [==============================] - 0s 2ms/step - loss: 0.1224 - accuracy: 0.9365\n"
     ]
    },
    {
     "data": {
      "text/plain": [
       "[0.122383713722229, 0.9364548325538635]"
      ]
     },
     "execution_count": 30,
     "metadata": {},
     "output_type": "execute_result"
    }
   ],
   "source": [
    "# Evaluation Model Performance in terms of Loss and Accuracy\n",
    "model.evaluate(testing_padded, test_labels)"
   ]
  },
  {
   "cell_type": "code",
   "execution_count": 31,
   "metadata": {
    "colab": {
     "base_uri": "https://localhost:8080/",
     "height": 865
    },
    "id": "Nw-7930w1koE",
    "outputId": "48e8607b-5a5d-4ada-eb4d-700dfb47f47f"
   },
   "outputs": [
    {
     "data": {
      "text/html": [
       "<div>\n",
       "<style scoped>\n",
       "    .dataframe tbody tr th:only-of-type {\n",
       "        vertical-align: middle;\n",
       "    }\n",
       "\n",
       "    .dataframe tbody tr th {\n",
       "        vertical-align: top;\n",
       "    }\n",
       "\n",
       "    .dataframe thead th {\n",
       "        text-align: right;\n",
       "    }\n",
       "</style>\n",
       "<table border=\"1\" class=\"dataframe\">\n",
       "  <thead>\n",
       "    <tr style=\"text-align: right;\">\n",
       "      <th></th>\n",
       "      <th>Training_Loss</th>\n",
       "      <th>Training_Accuracy</th>\n",
       "      <th>Validation_Loss</th>\n",
       "      <th>Validation_Accuracy</th>\n",
       "    </tr>\n",
       "  </thead>\n",
       "  <tbody>\n",
       "    <tr>\n",
       "      <th>0</th>\n",
       "      <td>0.688224</td>\n",
       "      <td>0.707113</td>\n",
       "      <td>0.682185</td>\n",
       "      <td>0.832776</td>\n",
       "    </tr>\n",
       "    <tr>\n",
       "      <th>1</th>\n",
       "      <td>0.667246</td>\n",
       "      <td>0.859414</td>\n",
       "      <td>0.650863</td>\n",
       "      <td>0.839465</td>\n",
       "    </tr>\n",
       "    <tr>\n",
       "      <th>2</th>\n",
       "      <td>0.618374</td>\n",
       "      <td>0.881172</td>\n",
       "      <td>0.587597</td>\n",
       "      <td>0.849498</td>\n",
       "    </tr>\n",
       "    <tr>\n",
       "      <th>3</th>\n",
       "      <td>0.531899</td>\n",
       "      <td>0.895397</td>\n",
       "      <td>0.497934</td>\n",
       "      <td>0.862876</td>\n",
       "    </tr>\n",
       "    <tr>\n",
       "      <th>4</th>\n",
       "      <td>0.435133</td>\n",
       "      <td>0.899582</td>\n",
       "      <td>0.412025</td>\n",
       "      <td>0.862876</td>\n",
       "    </tr>\n",
       "    <tr>\n",
       "      <th>5</th>\n",
       "      <td>0.345317</td>\n",
       "      <td>0.911297</td>\n",
       "      <td>0.340168</td>\n",
       "      <td>0.892977</td>\n",
       "    </tr>\n",
       "    <tr>\n",
       "      <th>6</th>\n",
       "      <td>0.286464</td>\n",
       "      <td>0.919665</td>\n",
       "      <td>0.290783</td>\n",
       "      <td>0.896321</td>\n",
       "    </tr>\n",
       "    <tr>\n",
       "      <th>7</th>\n",
       "      <td>0.241048</td>\n",
       "      <td>0.925523</td>\n",
       "      <td>0.248699</td>\n",
       "      <td>0.903010</td>\n",
       "    </tr>\n",
       "    <tr>\n",
       "      <th>8</th>\n",
       "      <td>0.209879</td>\n",
       "      <td>0.939749</td>\n",
       "      <td>0.219896</td>\n",
       "      <td>0.906354</td>\n",
       "    </tr>\n",
       "    <tr>\n",
       "      <th>9</th>\n",
       "      <td>0.178461</td>\n",
       "      <td>0.943096</td>\n",
       "      <td>0.192478</td>\n",
       "      <td>0.909699</td>\n",
       "    </tr>\n",
       "    <tr>\n",
       "      <th>10</th>\n",
       "      <td>0.164553</td>\n",
       "      <td>0.953975</td>\n",
       "      <td>0.172273</td>\n",
       "      <td>0.933110</td>\n",
       "    </tr>\n",
       "    <tr>\n",
       "      <th>11</th>\n",
       "      <td>0.146954</td>\n",
       "      <td>0.955649</td>\n",
       "      <td>0.165127</td>\n",
       "      <td>0.933110</td>\n",
       "    </tr>\n",
       "    <tr>\n",
       "      <th>12</th>\n",
       "      <td>0.132281</td>\n",
       "      <td>0.958159</td>\n",
       "      <td>0.155790</td>\n",
       "      <td>0.936455</td>\n",
       "    </tr>\n",
       "    <tr>\n",
       "      <th>13</th>\n",
       "      <td>0.121539</td>\n",
       "      <td>0.957322</td>\n",
       "      <td>0.153489</td>\n",
       "      <td>0.933110</td>\n",
       "    </tr>\n",
       "    <tr>\n",
       "      <th>14</th>\n",
       "      <td>0.115401</td>\n",
       "      <td>0.967364</td>\n",
       "      <td>0.138536</td>\n",
       "      <td>0.943144</td>\n",
       "    </tr>\n",
       "    <tr>\n",
       "      <th>15</th>\n",
       "      <td>0.106852</td>\n",
       "      <td>0.963180</td>\n",
       "      <td>0.135116</td>\n",
       "      <td>0.939799</td>\n",
       "    </tr>\n",
       "    <tr>\n",
       "      <th>16</th>\n",
       "      <td>0.106994</td>\n",
       "      <td>0.969038</td>\n",
       "      <td>0.133653</td>\n",
       "      <td>0.939799</td>\n",
       "    </tr>\n",
       "    <tr>\n",
       "      <th>17</th>\n",
       "      <td>0.091818</td>\n",
       "      <td>0.969875</td>\n",
       "      <td>0.128623</td>\n",
       "      <td>0.939799</td>\n",
       "    </tr>\n",
       "    <tr>\n",
       "      <th>18</th>\n",
       "      <td>0.097991</td>\n",
       "      <td>0.967364</td>\n",
       "      <td>0.124949</td>\n",
       "      <td>0.943144</td>\n",
       "    </tr>\n",
       "    <tr>\n",
       "      <th>19</th>\n",
       "      <td>0.088968</td>\n",
       "      <td>0.970711</td>\n",
       "      <td>0.113626</td>\n",
       "      <td>0.946488</td>\n",
       "    </tr>\n",
       "    <tr>\n",
       "      <th>20</th>\n",
       "      <td>0.083419</td>\n",
       "      <td>0.971548</td>\n",
       "      <td>0.119003</td>\n",
       "      <td>0.949833</td>\n",
       "    </tr>\n",
       "    <tr>\n",
       "      <th>21</th>\n",
       "      <td>0.075749</td>\n",
       "      <td>0.974895</td>\n",
       "      <td>0.112161</td>\n",
       "      <td>0.946488</td>\n",
       "    </tr>\n",
       "    <tr>\n",
       "      <th>22</th>\n",
       "      <td>0.079425</td>\n",
       "      <td>0.969038</td>\n",
       "      <td>0.112110</td>\n",
       "      <td>0.946488</td>\n",
       "    </tr>\n",
       "    <tr>\n",
       "      <th>23</th>\n",
       "      <td>0.073844</td>\n",
       "      <td>0.978243</td>\n",
       "      <td>0.119350</td>\n",
       "      <td>0.943144</td>\n",
       "    </tr>\n",
       "    <tr>\n",
       "      <th>24</th>\n",
       "      <td>0.072120</td>\n",
       "      <td>0.978243</td>\n",
       "      <td>0.112580</td>\n",
       "      <td>0.949833</td>\n",
       "    </tr>\n",
       "    <tr>\n",
       "      <th>25</th>\n",
       "      <td>0.066426</td>\n",
       "      <td>0.975732</td>\n",
       "      <td>0.122384</td>\n",
       "      <td>0.936455</td>\n",
       "    </tr>\n",
       "  </tbody>\n",
       "</table>\n",
       "</div>"
      ],
      "text/plain": [
       "    Training_Loss  Training_Accuracy  Validation_Loss  Validation_Accuracy\n",
       "0        0.688224           0.707113         0.682185             0.832776\n",
       "1        0.667246           0.859414         0.650863             0.839465\n",
       "2        0.618374           0.881172         0.587597             0.849498\n",
       "3        0.531899           0.895397         0.497934             0.862876\n",
       "4        0.435133           0.899582         0.412025             0.862876\n",
       "5        0.345317           0.911297         0.340168             0.892977\n",
       "6        0.286464           0.919665         0.290783             0.896321\n",
       "7        0.241048           0.925523         0.248699             0.903010\n",
       "8        0.209879           0.939749         0.219896             0.906354\n",
       "9        0.178461           0.943096         0.192478             0.909699\n",
       "10       0.164553           0.953975         0.172273             0.933110\n",
       "11       0.146954           0.955649         0.165127             0.933110\n",
       "12       0.132281           0.958159         0.155790             0.936455\n",
       "13       0.121539           0.957322         0.153489             0.933110\n",
       "14       0.115401           0.967364         0.138536             0.943144\n",
       "15       0.106852           0.963180         0.135116             0.939799\n",
       "16       0.106994           0.969038         0.133653             0.939799\n",
       "17       0.091818           0.969875         0.128623             0.939799\n",
       "18       0.097991           0.967364         0.124949             0.943144\n",
       "19       0.088968           0.970711         0.113626             0.946488\n",
       "20       0.083419           0.971548         0.119003             0.949833\n",
       "21       0.075749           0.974895         0.112161             0.946488\n",
       "22       0.079425           0.969038         0.112110             0.946488\n",
       "23       0.073844           0.978243         0.119350             0.943144\n",
       "24       0.072120           0.978243         0.112580             0.949833\n",
       "25       0.066426           0.975732         0.122384             0.936455"
      ]
     },
     "execution_count": 31,
     "metadata": {},
     "output_type": "execute_result"
    }
   ],
   "source": [
    "# Create a dataframe\n",
    "metrics = pd.DataFrame(history.history)\n",
    "# Viewing Loss And Accuracy Values\n",
    "metrics.rename(columns = {'loss': 'Training_Loss', 'accuracy': 'Training_Accuracy',\n",
    "                         'val_loss': 'Validation_Loss', 'val_accuracy': 'Validation_Accuracy'}, inplace = True)\n",
    "metrics"
   ]
  },
  {
   "cell_type": "code",
   "execution_count": 32,
   "metadata": {
    "id": "_DUtQjzK1koE"
   },
   "outputs": [],
   "source": [
    "####\n",
    "# NAME: plotGraphs\n",
    "# PARAMETERS: var1, var2: Graph parameters, string: graph value, string2: graph heading, metrics: model metrics\n",
    "# PURPOSE: The function generates Graph for Dense model\n",
    "# PRECONDITION: Model is trained\n",
    "# POSTCONDITION: Graph is generated\n",
    "####\n",
    "def plotGraphs(var1, var2, string,string2,metrics):\n",
    "    metrics[[var1, var2]].plot()\n",
    "    plt.title(string2 + string)\n",
    "    plt.xlabel ('Number of epochs')\n",
    "    plt.ylabel(string)\n",
    "    plt.legend([var1, var2])"
   ]
  },
  {
   "cell_type": "code",
   "execution_count": 33,
   "metadata": {
    "colab": {
     "base_uri": "https://localhost:8080/",
     "height": 295
    },
    "id": "2husInDd1koF",
    "outputId": "5de28b4c-7cbe-4283-8b88-a30198879119"
   },
   "outputs": [
    {
     "data": {
      "image/png": "[encoded data removed]",
      "text/plain": [
       "<Figure size 432x288 with 1 Axes>"
      ]
     },
     "metadata": {
      "needs_background": "light"
     },
     "output_type": "display_data"
    }
   ],
   "source": [
    "plotGraphs('Training_Loss', 'Validation_Loss', 'loss','Dense Classifier: Training and Validation ',metrics)"
   ]
  },
  {
   "cell_type": "code",
   "execution_count": 34,
   "metadata": {
    "colab": {
     "base_uri": "https://localhost:8080/",
     "height": 295
    },
    "id": "XfhEHypR1koF",
    "outputId": "1f659770-6c1c-481d-fc6b-0d1c08d48d41"
   },
   "outputs": [
    {
     "data": {
      "image/png": "[encoded data removed]",
      "text/plain": [
       "<Figure size 432x288 with 1 Axes>"
      ]
     },
     "metadata": {
      "needs_background": "light"
     },
     "output_type": "display_data"
    }
   ],
   "source": [
    "plotGraphs('Training_Accuracy', 'Validation_Accuracy', 'accuracy','Dense Classifier: Training and Validation ',metrics)"
   ]
  },
  {
   "cell_type": "code",
   "execution_count": 35,
   "metadata": {
    "id": "njGPbKhF1koF"
   },
   "outputs": [],
   "source": [
    "#LSTM layer arcitecture hyperparameters\n",
    "n_lstm = 20\n",
    "drop_lstm =0.2"
   ]
  },
  {
   "cell_type": "code",
   "execution_count": 36,
   "metadata": {
    "id": "C-1onmmG1koG"
   },
   "outputs": [],
   "source": [
    "#LSTM Spam detection architecture\n",
    "model1 = Sequential()\n",
    "model1.add(Embedding(vocab_size, embeding_dim, input_length=max_len))\n",
    "model1.add(LSTM(n_lstm, dropout=drop_lstm, return_sequences=True))\n",
    "model1.add(LSTM(n_lstm, dropout=drop_lstm, return_sequences=True))\n",
    "model1.add(GlobalAveragePooling1D())\n",
    "model1.add(Dense(1, activation='sigmoid'))\n"
   ]
  },
  {
   "cell_type": "code",
   "execution_count": 37,
   "metadata": {
    "colab": {
     "base_uri": "https://localhost:8080/"
    },
    "id": "msc3rJbwMJVZ",
    "outputId": "671158e5-4109-4d8c-99cc-0e14df947447"
   },
   "outputs": [
    {
     "name": "stdout",
     "output_type": "stream",
     "text": [
      "Model: \"sequential_1\"\n",
      "_________________________________________________________________\n",
      " Layer (type)                Output Shape              Param #   \n",
      "=================================================================\n",
      " embedding_1 (Embedding)     (None, 50, 16)            8000      \n",
      "                                                                 \n",
      " lstm (LSTM)                 (None, 50, 20)            2960      \n",
      "                                                                 \n",
      " lstm_1 (LSTM)               (None, 50, 20)            3280      \n",
      "                                                                 \n",
      " global_average_pooling1d_1   (None, 20)               0         \n",
      " (GlobalAveragePooling1D)                                        \n",
      "                                                                 \n",
      " dense_2 (Dense)             (None, 1)                 21        \n",
      "                                                                 \n",
      "=================================================================\n",
      "Total params: 14,261\n",
      "Trainable params: 14,261\n",
      "Non-trainable params: 0\n",
      "_________________________________________________________________\n"
     ]
    }
   ],
   "source": [
    "model1.summary()"
   ]
  },
  {
   "cell_type": "code",
   "execution_count": 38,
   "metadata": {
    "id": "ftk_Gt6o1koG"
   },
   "outputs": [],
   "source": [
    "model1.compile(loss = 'binary_crossentropy', optimizer = 'adam', metrics=['accuracy'])"
   ]
  },
  {
   "cell_type": "code",
   "execution_count": 39,
   "metadata": {
    "colab": {
     "base_uri": "https://localhost:8080/"
    },
    "id": "GunbNqMe1koG",
    "outputId": "a0f522e5-edfb-4655-ccd1-3670f1da2b08",
    "scrolled": true
   },
   "outputs": [
    {
     "name": "stdout",
     "output_type": "stream",
     "text": [
      "Epoch 1/30\n",
      "38/38 - 7s - loss: 0.6693 - accuracy: 0.5967 - val_loss: 0.5557 - val_accuracy: 0.7860 - 7s/epoch - 174ms/step\n",
      "Epoch 2/30\n",
      "38/38 - 2s - loss: 0.3782 - accuracy: 0.8845 - val_loss: 0.2548 - val_accuracy: 0.9197 - 2s/epoch - 44ms/step\n",
      "Epoch 3/30\n",
      "38/38 - 2s - loss: 0.2207 - accuracy: 0.9406 - val_loss: 0.1902 - val_accuracy: 0.9532 - 2s/epoch - 44ms/step\n",
      "Epoch 4/30\n",
      "38/38 - 2s - loss: 0.1618 - accuracy: 0.9598 - val_loss: 0.1619 - val_accuracy: 0.9565 - 2s/epoch - 44ms/step\n",
      "Epoch 5/30\n",
      "38/38 - 2s - loss: 0.1227 - accuracy: 0.9682 - val_loss: 0.2272 - val_accuracy: 0.9331 - 2s/epoch - 44ms/step\n",
      "Epoch 6/30\n",
      "38/38 - 2s - loss: 0.1056 - accuracy: 0.9715 - val_loss: 0.1740 - val_accuracy: 0.9465 - 2s/epoch - 42ms/step\n"
     ]
    }
   ],
   "source": [
    "# Training\n",
    "num_epochs = 30\n",
    "early_stop = EarlyStopping(monitor='val_loss', patience=2)\n",
    "history = model1.fit(training_padded, train_labels, epochs=num_epochs, \n",
    "                     validation_data=(testing_padded, test_labels),callbacks =[early_stop], verbose=2)"
   ]
  },
  {
   "cell_type": "code",
   "execution_count": 40,
   "metadata": {
    "id": "RBrsbvF91koG"
   },
   "outputs": [],
   "source": [
    "# Create a dataframe\n",
    "metrics1 = pd.DataFrame(history.history)\n",
    "\n",
    "# Rename column\n",
    "metrics1.rename(columns = {'loss': 'Training_Loss', 'accuracy': 'Training_Accuracy',\n",
    "                         'val_loss': 'Validation_Loss', 'val_accuracy': 'Validation_Accuracy'}, inplace = True)"
   ]
  },
  {
   "cell_type": "code",
   "execution_count": 41,
   "metadata": {
    "colab": {
     "base_uri": "https://localhost:8080/",
     "height": 295
    },
    "id": "qwai13AM1koG",
    "outputId": "8134cf0a-ed4b-4df1-d42c-27e6bdb9202a"
   },
   "outputs": [
    {
     "data": {
      "image/png": "[encoded data removed]",
      "text/plain": [
       "<Figure size 432x288 with 1 Axes>"
      ]
     },
     "metadata": {
      "needs_background": "light"
     },
     "output_type": "display_data"
    }
   ],
   "source": [
    "plotGraphs('Training_Loss', 'Validation_Loss', 'loss','LSTM Model: Training and Validation ',metrics1)"
   ]
  },
  {
   "cell_type": "code",
   "execution_count": 42,
   "metadata": {
    "colab": {
     "base_uri": "https://localhost:8080/",
     "height": 295
    },
    "id": "TK-WiSJw1koH",
    "outputId": "82bbf369-2de3-4b40-ef84-155c71738d16"
   },
   "outputs": [
    {
     "data": {
      "image/png": "[encoded data removed]",
      "text/plain": [
       "<Figure size 432x288 with 1 Axes>"
      ]
     },
     "metadata": {
      "needs_background": "light"
     },
     "output_type": "display_data"
    }
   ],
   "source": [
    "plotGraphs('Training_Accuracy', 'Validation_Accuracy', 'accuracy','LSTM Model: Training and Validation ',metrics1)"
   ]
  },
  {
   "cell_type": "code",
   "execution_count": 59,
   "metadata": {
    "id": "eh9IImnh1koH"
   },
   "outputs": [],
   "source": [
    "# Biderectional LSTM Spam detection architecture\n",
    "model2 = Sequential()\n",
    "model2.add(Embedding(vocab_size, embeding_dim, input_length=max_len))\n",
    "model2.add(Bidirectional(LSTM(n_lstm, dropout=drop_lstm, return_sequences=True)))\n",
    "model2.add(GlobalAveragePooling1D())\n",
    "\n",
    "model2.add(Dense(1, activation='sigmoid'))\n"
   ]
  },
  {
   "cell_type": "code",
   "execution_count": 60,
   "metadata": {
    "id": "3-hsAblI1koH"
   },
   "outputs": [],
   "source": [
    "model2.compile(loss = 'binary_crossentropy', optimizer = 'adam', metrics=['accuracy'])"
   ]
  },
  {
   "cell_type": "code",
   "execution_count": 61,
   "metadata": {
    "colab": {
     "base_uri": "https://localhost:8080/"
    },
    "id": "Y-chcOwC1koM",
    "outputId": "edd76376-1d9c-4f4d-fc26-ad689867a040"
   },
   "outputs": [
    {
     "name": "stdout",
     "output_type": "stream",
     "text": [
      "Epoch 1/40\n",
      "38/38 - 6s - loss: 0.6701 - accuracy: 0.7364 - val_loss: 0.5970 - val_accuracy: 0.7960 - 6s/epoch - 170ms/step\n",
      "Epoch 2/40\n",
      "38/38 - 1s - loss: 0.4134 - accuracy: 0.8686 - val_loss: 0.3043 - val_accuracy: 0.8829 - 1s/epoch - 34ms/step\n",
      "Epoch 3/40\n",
      "38/38 - 1s - loss: 0.2095 - accuracy: 0.9314 - val_loss: 0.2169 - val_accuracy: 0.9331 - 1s/epoch - 32ms/step\n",
      "Epoch 4/40\n",
      "38/38 - 1s - loss: 0.1515 - accuracy: 0.9531 - val_loss: 0.1696 - val_accuracy: 0.9498 - 1s/epoch - 33ms/step\n",
      "Epoch 5/40\n",
      "38/38 - 1s - loss: 0.1261 - accuracy: 0.9640 - val_loss: 0.1450 - val_accuracy: 0.9565 - 1s/epoch - 33ms/step\n",
      "Epoch 6/40\n",
      "38/38 - 1s - loss: 0.1070 - accuracy: 0.9707 - val_loss: 0.1493 - val_accuracy: 0.9465 - 1s/epoch - 33ms/step\n",
      "Epoch 7/40\n",
      "38/38 - 1s - loss: 0.0959 - accuracy: 0.9665 - val_loss: 0.2665 - val_accuracy: 0.9130 - 1s/epoch - 33ms/step\n"
     ]
    }
   ],
   "source": [
    "# Training\n",
    "num_epochs = 40\n",
    "early_stop = EarlyStopping(monitor='val_loss', patience=2)\n",
    "history = model2.fit(training_padded, train_labels, epochs=num_epochs, \n",
    "                    validation_data=(testing_padded, test_labels),callbacks =[early_stop], verbose=2)"
   ]
  },
  {
   "cell_type": "code",
   "execution_count": 62,
   "metadata": {
    "colab": {
     "base_uri": "https://localhost:8080/",
     "height": 573
    },
    "id": "yLfdKKiI1koN",
    "outputId": "a12f60cd-d888-4162-cebf-330f251e195f"
   },
   "outputs": [
    {
     "data": {
      "image/png": "[encoded data removed]",
      "text/plain": [
       "<Figure size 432x288 with 1 Axes>"
      ]
     },
     "metadata": {
      "needs_background": "light"
     },
     "output_type": "display_data"
    },
    {
     "data": {
      "image/png": "[encoded data removed]",
      "text/plain": [
       "<Figure size 432x288 with 1 Axes>"
      ]
     },
     "metadata": {
      "needs_background": "light"
     },
     "output_type": "display_data"
    }
   ],
   "source": [
    "# Create a dataframe\n",
    "metrics2 = pd.DataFrame(history.history)\n",
    "\n",
    "# Rename column\n",
    "metrics2.rename(columns = {'loss': 'Training_Loss', 'accuracy': 'Training_Accuracy',\n",
    "                         'val_loss': 'Validation_Loss', 'val_accuracy': 'Validation_Accuracy'}, inplace = True)\n",
    "\n",
    "plotGraphs('Training_Loss', 'Validation_Loss', 'loss','BiLSTM Model: Training and Validation ',metrics2)\n",
    "plotGraphs('Training_Accuracy', 'Validation_Accuracy', 'accuracy','BiLSTM Model: Training and Validation ',metrics2)"
   ]
  },
  {
   "cell_type": "code",
   "execution_count": 63,
   "metadata": {
    "colab": {
     "base_uri": "https://localhost:8080/"
    },
    "id": "SIZ6bZFf1koN",
    "outputId": "9b76da11-1291-433d-efbb-92e9ddbbc6dd"
   },
   "outputs": [
    {
     "name": "stdout",
     "output_type": "stream",
     "text": [
      "10/10 [==============================] - 0s 2ms/step - loss: 0.1224 - accuracy: 0.9365\n",
      "Dense architecture loss and accuracy: [0.122383713722229, 0.9364548325538635] \n",
      "10/10 [==============================] - 0s 11ms/step - loss: 0.1740 - accuracy: 0.9465\n",
      "LSTM architecture loss and accuracy: [0.17397856712341309, 0.9464883208274841] \n",
      "10/10 [==============================] - 0s 11ms/step - loss: 0.2665 - accuracy: 0.9130\n",
      "Bi-LSTM architecture loss and accuracy: [0.2664792239665985, 0.9130434989929199] \n"
     ]
    }
   ],
   "source": [
    "# Comparing three different models\n",
    "print(f\"Dense architecture loss and accuracy: {model.evaluate(testing_padded, test_labels)} \" )\n",
    "print(f\"LSTM architecture loss and accuracy: {model1.evaluate(testing_padded, test_labels)} \" )\n",
    "print(f\"Bi-LSTM architecture loss and accuracy: {model2.evaluate(testing_padded, test_labels)} \" )"
   ]
  },
  {
   "cell_type": "code",
   "execution_count": 64,
   "metadata": {
    "id": "5UR0DN1qaG3f"
   },
   "outputs": [],
   "source": [
    "# Calculating FPR and TPR of all models\n",
    "from sklearn.metrics import roc_curve\n",
    "from sklearn.metrics import precision_recall_curve,roc_auc_score\n",
    "\n",
    "#fpr, tpr contains falls positive and true positive rate of models\n",
    "\n",
    "y_pred_model = model.predict(testing_padded).ravel()\n",
    "fpr, tpr, thresholds = roc_curve(test_labels, y_pred_model)\n",
    "precision, recall, thresholds = precision_recall_curve(test_labels,y_pred_model)\n",
    "\n",
    "y_pred_model = model1.predict(testing_padded).ravel()\n",
    "fpr_1, tpr_1, thresholds_1 = roc_curve(test_labels, y_pred_model)\n",
    "precision1, recall1, thresholds1 = precision_recall_curve(test_labels,y_pred_model)\n",
    "\n",
    "\n",
    "y_pred_model = model2.predict(testing_padded).ravel()\n",
    "fpr_2, tpr_2, thresholds_2 = roc_curve(test_labels, y_pred_model)\n",
    "precision2, recall2, thresholds2 = precision_recall_curve(test_labels,y_pred_model)\n",
    "\n",
    "prec, rec, _ = precision_recall_curve(test_labels1,predict)\n",
    "fpr4, tpr4, _ = roc_curve(test_labels1,predict)\n",
    "\n",
    "\n",
    "from sklearn.metrics import auc\n",
    "auc1 = auc(fpr, tpr)\n",
    "auc2 = auc(fpr_1, tpr_1)\n",
    "auc3 = auc(fpr_2, tpr_2)\n",
    "auc4 = roc_auc_score(test_labels1,predict)\n"
   ]
  },
  {
   "cell_type": "code",
   "execution_count": 65,
   "metadata": {
    "colab": {
     "base_uri": "https://localhost:8080/",
     "height": 573
    },
    "id": "P6eMjvOvaMwW",
    "outputId": "7d57a44c-54b7-40c2-876d-65a067c70f2c"
   },
   "outputs": [
    {
     "data": {
      "image/png": "[encoded data removed]",
      "text/plain": [
       "<Figure size 432x288 with 1 Axes>"
      ]
     },
     "metadata": {
      "needs_background": "light"
     },
     "output_type": "display_data"
    },
    {
     "data": {
      "image/png": "[encoded data removed]",
      "text/plain": [
       "<Figure size 432x288 with 1 Axes>"
      ]
     },
     "metadata": {
      "needs_background": "light"
     },
     "output_type": "display_data"
    }
   ],
   "source": [
    "# Generating ROC curves\n",
    "plt.figure(1)\n",
    "\n",
    "plt.plot([0, 1], [0, 1], 'k--')\n",
    "plt.plot(fpr, tpr, label='Dense (area = {:.3f})'.format(auc1))\n",
    "plt.plot(fpr_1, tpr_1, label='LSTM (area = {:.3f})'.format(auc2))\n",
    "plt.plot(fpr_2, tpr_2, label='Bi-LSTM (area = {:.3f})'.format(auc3))\n",
    "plt.plot(fpr,tpr,label=\"Naive, auc=\"+str(auc4))\n",
    "\n",
    "plt.xlabel('False positive rate')\n",
    "plt.ylabel('True positive rate')\n",
    "plt.title('ROC curve')\n",
    "plt.legend(loc='best')\n",
    "plt.show()\n",
    "\n",
    "\n",
    "plt.figure(2)\n",
    "\n",
    "auc1 = auc(recall,precision)\n",
    "auc2 = auc(recall1,precision1)\n",
    "auc3 = auc(recall2,precision2)\n",
    "auc4 =  auc(rec,prec)\n",
    "\n",
    "\n",
    "plt.plot(precision, recall, label='Dense (area = {:.3f})'.format(auc1))\n",
    "plt.plot(precision1, recall1, label='LSTM (area = {:.3f})'.format(auc2))\n",
    "plt.plot(precision2, recall2, label='Bi-LSTM (area = {:.3f})'.format(auc3))\n",
    "plt.plot(rec,prec,label=\"Naive, auc=\"+str(auc4))\n",
    "\n",
    "plt.xlabel('Recall')\n",
    "plt.ylabel('Precision')\n",
    "plt.title('PR curve')\n",
    "plt.legend(loc='best')\n",
    "plt.show()\n"
   ]
  }
 ],
 "metadata": {
  "colab": {
   "name": "CS5331_ 01_Assignment3_fasaeed_01.ipynb",
   "provenance": []
  },
  "kernelspec": {
   "display_name": "Python 3",
   "language": "python",
   "name": "python3"
  },
  "language_info": {
   "codemirror_mode": {
    "name": "ipython",
    "version": 3
   },
   "file_extension": ".py",
   "mimetype": "text/x-python",
   "name": "python",
   "nbconvert_exporter": "python",
   "pygments_lexer": "ipython3",
   "version": "3.8.8"
  }
 },
 "nbformat": 4,
 "nbformat_minor": 1
}
